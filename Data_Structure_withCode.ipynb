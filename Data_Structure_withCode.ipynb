{
  "nbformat": 4,
  "nbformat_minor": 5,
  "metadata": {
    "kernelspec": {
      "display_name": "Python 3",
      "language": "python",
      "name": "python3"
    },
    "language_info": {
      "codemirror_mode": {
        "name": "ipython",
        "version": 3
      },
      "file_extension": ".py",
      "mimetype": "text/x-python",
      "name": "python",
      "nbconvert_exporter": "python",
      "pygments_lexer": "ipython3",
      "version": "3.7.6"
    },
    "colab": {
      "name": "Data_Structure_withCode.ipynb",
      "provenance": [],
      "collapsed_sections": []
    }
  },
  "cells": [
    {
      "cell_type": "markdown",
      "metadata": {
        "id": "f8pItHtgkpbz"
      },
      "source": [
        "# <center> <u>Data Structures <u> </center>"
      ],
      "id": "f8pItHtgkpbz"
    },
    {
      "cell_type": "markdown",
      "metadata": {
        "id": "MWx_0nS8kpb4"
      },
      "source": [
        "## 1. Lists\n",
        "\n",
        "Reference:- https://www.youtube.com/watch?v=b3O9qI5dcHE&list=PLsR_0x6BuM-GCc3iD6OQuEZHCAtYPmZfx&index=10\n",
        "\n"
      ],
      "id": "MWx_0nS8kpb4"
    },
    {
      "cell_type": "markdown",
      "metadata": {
        "id": "UtGdnSPmkpb5"
      },
      "source": [
        "<p style='text-align: right;'> 1+1+1 = 3 points</p>\n"
      ],
      "id": "UtGdnSPmkpb5"
    },
    {
      "cell_type": "markdown",
      "metadata": {
        "id": "WAhL2Oo-kpb6"
      },
      "source": [
        "#### 1.1 Create an empty list with the name ‘a’, print the value of a and type(a).\n"
      ],
      "id": "WAhL2Oo-kpb6"
    },
    {
      "cell_type": "code",
      "metadata": {
        "id": "urx8RrG0kpb6"
      },
      "source": [
        "# create empty list, name it 'a'\n",
        "a = []\n",
        "\n"
      ],
      "id": "urx8RrG0kpb6",
      "execution_count": 2,
      "outputs": []
    },
    {
      "cell_type": "code",
      "metadata": {
        "id": "kfqiZLuKkpb8",
        "outputId": "85d5c6a1-c9a5-4a07-9165-0a98a5d5906d",
        "colab": {
          "base_uri": "https://localhost:8080/"
        }
      },
      "source": [
        "# print the value of a\n",
        "a\n"
      ],
      "id": "kfqiZLuKkpb8",
      "execution_count": 3,
      "outputs": [
        {
          "output_type": "execute_result",
          "data": {
            "text/plain": [
              "[]"
            ]
          },
          "metadata": {},
          "execution_count": 3
        }
      ]
    },
    {
      "cell_type": "code",
      "metadata": {
        "id": "eWwP4exrkpb9",
        "outputId": "5ec0b8f9-037d-40b6-d10c-d608b2903366",
        "colab": {
          "base_uri": "https://localhost:8080/"
        }
      },
      "source": [
        "# print the type of a\n",
        "\n",
        "type(a)"
      ],
      "id": "eWwP4exrkpb9",
      "execution_count": 4,
      "outputs": [
        {
          "output_type": "execute_result",
          "data": {
            "text/plain": [
              "list"
            ]
          },
          "metadata": {},
          "execution_count": 4
        }
      ]
    },
    {
      "cell_type": "markdown",
      "metadata": {
        "id": "32ysMWS-kpb-"
      },
      "source": [
        "#### 1.2.Create a list , languages = ['R','Python', 'SAS', 'Scala', 42], "
      ],
      "id": "32ysMWS-kpb-"
    },
    {
      "cell_type": "markdown",
      "metadata": {
        "id": "c0kXpcXjkpb-"
      },
      "source": [
        "<p style='text-align: right;'> 1+1+1+1+1+1+1+1 = 7 points</p>\n"
      ],
      "id": "c0kXpcXjkpb-"
    },
    {
      "cell_type": "code",
      "metadata": {
        "id": "g-AO-p4Dkpb_"
      },
      "source": [
        "#code here\n",
        "languages = ['R','Python', 'SAS', 'Scala', 42]"
      ],
      "id": "g-AO-p4Dkpb_",
      "execution_count": 16,
      "outputs": []
    },
    {
      "cell_type": "markdown",
      "metadata": {
        "id": "8PF67_8SkpcA"
      },
      "source": [
        "Print the number of elements in the list"
      ],
      "id": "8PF67_8SkpcA"
    },
    {
      "cell_type": "code",
      "metadata": {
        "id": "iQGAQq9VkpcA",
        "outputId": "470b9e3e-46d1-47d9-f5f7-282ec93b1d82",
        "colab": {
          "base_uri": "https://localhost:8080/"
        }
      },
      "source": [
        "#code here\n",
        "len(languages)"
      ],
      "id": "iQGAQq9VkpcA",
      "execution_count": 6,
      "outputs": [
        {
          "output_type": "execute_result",
          "data": {
            "text/plain": [
              "5"
            ]
          },
          "metadata": {},
          "execution_count": 6
        }
      ]
    },
    {
      "cell_type": "markdown",
      "metadata": {
        "id": "_9sgh2mmkpcA"
      },
      "source": [
        "Using for loop iterate and print all the elements in the list"
      ],
      "id": "_9sgh2mmkpcA"
    },
    {
      "cell_type": "code",
      "metadata": {
        "id": "-LcM7OzqkpcB",
        "outputId": "10a3a97d-8322-4c73-d3c0-29300b4216d9",
        "colab": {
          "base_uri": "https://localhost:8080/"
        }
      },
      "source": [
        "#code here\n",
        "for i in languages:\n",
        "  print(i)\n"
      ],
      "id": "-LcM7OzqkpcB",
      "execution_count": 7,
      "outputs": [
        {
          "output_type": "stream",
          "name": "stdout",
          "text": [
            "R\n",
            "Python\n",
            "SAS\n",
            "Scala\n",
            "42\n"
          ]
        }
      ]
    },
    {
      "cell_type": "markdown",
      "metadata": {
        "id": "jpjlH5l3kpcB"
      },
      "source": [
        "Select the second item, 'Python' and store it in a new variable named 'temp'"
      ],
      "id": "jpjlH5l3kpcB"
    },
    {
      "cell_type": "code",
      "metadata": {
        "id": "IQit1VGkkpcC"
      },
      "source": [
        "#code here\n",
        "temp = languages[1]"
      ],
      "id": "IQit1VGkkpcC",
      "execution_count": 9,
      "outputs": []
    },
    {
      "cell_type": "markdown",
      "metadata": {
        "id": "Ps13-taZkpcC"
      },
      "source": [
        "Print the value of temp and type(temp)"
      ],
      "id": "Ps13-taZkpcC"
    },
    {
      "cell_type": "code",
      "metadata": {
        "id": "897kqIj0kpcC",
        "outputId": "256938d0-cdb3-49cf-b23e-19a0a682b2b3",
        "colab": {
          "base_uri": "https://localhost:8080/"
        }
      },
      "source": [
        "#code here\n",
        "print(temp)\n",
        "type(temp)\n"
      ],
      "id": "897kqIj0kpcC",
      "execution_count": 10,
      "outputs": [
        {
          "output_type": "stream",
          "name": "stdout",
          "text": [
            "Python\n"
          ]
        },
        {
          "output_type": "execute_result",
          "data": {
            "text/plain": [
              "str"
            ]
          },
          "metadata": {},
          "execution_count": 10
        }
      ]
    },
    {
      "cell_type": "markdown",
      "metadata": {
        "id": "V9f0P9zTkpcC"
      },
      "source": [
        "Using list comprehension, print the last two elemets of list"
      ],
      "id": "V9f0P9zTkpcC"
    },
    {
      "cell_type": "code",
      "metadata": {
        "id": "rZzWEtGakpcD",
        "outputId": "54ac541e-2d17-4606-a3c4-294ebed49e43",
        "colab": {
          "base_uri": "https://localhost:8080/"
        }
      },
      "source": [
        "# code here\n",
        "languages[-2:]"
      ],
      "id": "rZzWEtGakpcD",
      "execution_count": 12,
      "outputs": [
        {
          "output_type": "execute_result",
          "data": {
            "text/plain": [
              "['Scala', 42]"
            ]
          },
          "metadata": {},
          "execution_count": 12
        }
      ]
    },
    {
      "cell_type": "markdown",
      "metadata": {
        "id": "wWY8wHfjkpcD"
      },
      "source": [
        "Append the element 'Java' in the list"
      ],
      "id": "wWY8wHfjkpcD"
    },
    {
      "cell_type": "code",
      "metadata": {
        "id": "ig5OP9J3kpcD"
      },
      "source": [
        "#code here\n",
        "languages.append('Java')"
      ],
      "id": "ig5OP9J3kpcD",
      "execution_count": 17,
      "outputs": []
    },
    {
      "cell_type": "markdown",
      "metadata": {
        "id": "JZF8zdS9kpcE"
      },
      "source": [
        "Remove the element 42 from the list and print the list"
      ],
      "id": "JZF8zdS9kpcE"
    },
    {
      "cell_type": "code",
      "metadata": {
        "id": "eNtarY6pkpcE",
        "outputId": "078af9d0-7b8e-4c5a-d398-629ef30ee83d",
        "colab": {
          "base_uri": "https://localhost:8080/"
        }
      },
      "source": [
        "#code here\n",
        "languages.remove(42)\n",
        "languages"
      ],
      "id": "eNtarY6pkpcE",
      "execution_count": 18,
      "outputs": [
        {
          "output_type": "execute_result",
          "data": {
            "text/plain": [
              "['R', 'Python', 'SAS', 'Scala', 'Java']"
            ]
          },
          "metadata": {},
          "execution_count": 18
        }
      ]
    },
    {
      "cell_type": "markdown",
      "metadata": {
        "id": "BtIptPlokpcF"
      },
      "source": [
        "#### 1.3. Create a list, colors = [‘Red’, ‘Blue’, ‘White’]"
      ],
      "id": "BtIptPlokpcF"
    },
    {
      "cell_type": "markdown",
      "metadata": {
        "id": "_zlfG-a3kpcF"
      },
      "source": [
        "<p style='text-align: right;'> 1+1+1+1+1+1+1 = 6 points</p>\n"
      ],
      "id": "_zlfG-a3kpcF"
    },
    {
      "cell_type": "code",
      "metadata": {
        "id": "SgKuIBIGkpcF"
      },
      "source": [
        "#code here\n",
        "colors = ['Red', 'Blue', 'White']"
      ],
      "id": "SgKuIBIGkpcF",
      "execution_count": 20,
      "outputs": []
    },
    {
      "cell_type": "markdown",
      "metadata": {
        "id": "MF0M4NlqkpcF"
      },
      "source": [
        "Append the element 'Black' to colors"
      ],
      "id": "MF0M4NlqkpcF"
    },
    {
      "cell_type": "code",
      "metadata": {
        "id": "rqwFPHBOkpcF"
      },
      "source": [
        "#code here\n",
        "colors.append('Black')"
      ],
      "id": "rqwFPHBOkpcF",
      "execution_count": 21,
      "outputs": []
    },
    {
      "cell_type": "markdown",
      "metadata": {
        "id": "fyBKDowJkpcG"
      },
      "source": [
        "Append the color 'Orange' to second position (index=1) and print the list"
      ],
      "id": "fyBKDowJkpcG"
    },
    {
      "cell_type": "code",
      "metadata": {
        "id": "Uu-VWRHLkpcG"
      },
      "source": [
        "# code here\n",
        "colors.insert(1,'Orange')\n"
      ],
      "id": "Uu-VWRHLkpcG",
      "execution_count": 22,
      "outputs": []
    },
    {
      "cell_type": "markdown",
      "metadata": {
        "id": "uwSMx8qGkpcG"
      },
      "source": [
        "Print the list\n"
      ],
      "id": "uwSMx8qGkpcG"
    },
    {
      "cell_type": "code",
      "metadata": {
        "id": "Pgi-1ValkpcG",
        "outputId": "4665b50c-c832-4ebb-be61-3bfa946ed1aa",
        "colab": {
          "base_uri": "https://localhost:8080/"
        }
      },
      "source": [
        "# code here\n",
        "print(colors)"
      ],
      "id": "Pgi-1ValkpcG",
      "execution_count": 23,
      "outputs": [
        {
          "output_type": "stream",
          "name": "stdout",
          "text": [
            "['Red', 'Orange', 'Blue', 'White', 'Black']\n"
          ]
        }
      ]
    },
    {
      "cell_type": "markdown",
      "metadata": {
        "id": "hpe93njnkpcG"
      },
      "source": [
        "Create another list, colors2 = [‘Grey’, ‘Sky Blue’]"
      ],
      "id": "hpe93njnkpcG"
    },
    {
      "cell_type": "code",
      "metadata": {
        "id": "9oSBcKnOkpcG"
      },
      "source": [
        "# code here\n",
        "colors2 = ['Grey', 'Sky Blue']"
      ],
      "id": "9oSBcKnOkpcG",
      "execution_count": 25,
      "outputs": []
    },
    {
      "cell_type": "markdown",
      "metadata": {
        "id": "DS86K9h5kpcH"
      },
      "source": [
        "Add the elements of colors2 to colors using extend function in the list"
      ],
      "id": "DS86K9h5kpcH"
    },
    {
      "cell_type": "code",
      "metadata": {
        "id": "YHcLi8sXkpcH"
      },
      "source": [
        "#code here\n",
        "colors.extend(colors2)"
      ],
      "id": "YHcLi8sXkpcH",
      "execution_count": 27,
      "outputs": []
    },
    {
      "cell_type": "markdown",
      "metadata": {
        "id": "9b4UNCk2kpcH"
      },
      "source": [
        "Print len of colors and its elements"
      ],
      "id": "9b4UNCk2kpcH"
    },
    {
      "cell_type": "code",
      "metadata": {
        "id": "9CpE1EdkkpcH",
        "outputId": "d5b73e5c-67f3-4f5a-aa74-a76b7e31b215",
        "colab": {
          "base_uri": "https://localhost:8080/"
        }
      },
      "source": [
        "# code here\n",
        "print(len(colors))\n",
        "print(colors)\n"
      ],
      "id": "9CpE1EdkkpcH",
      "execution_count": 30,
      "outputs": [
        {
          "output_type": "stream",
          "name": "stdout",
          "text": [
            "7\n",
            "['Red', 'Orange', 'Blue', 'White', 'Black', 'Grey', 'Sky Blue']\n"
          ]
        }
      ]
    },
    {
      "cell_type": "markdown",
      "metadata": {
        "id": "JyoPvYVDkpcI"
      },
      "source": [
        "Sort the list and print it."
      ],
      "id": "JyoPvYVDkpcI"
    },
    {
      "cell_type": "code",
      "metadata": {
        "id": "5O6F7CQskpcI",
        "outputId": "ee1c5d36-bfe8-4933-d925-5798e369f431",
        "colab": {
          "base_uri": "https://localhost:8080/"
        }
      },
      "source": [
        "# code here\n",
        "colors.sort()\n",
        "colors"
      ],
      "id": "5O6F7CQskpcI",
      "execution_count": 32,
      "outputs": [
        {
          "output_type": "execute_result",
          "data": {
            "text/plain": [
              "['Black', 'Blue', 'Grey', 'Orange', 'Red', 'Sky Blue', 'White']"
            ]
          },
          "metadata": {},
          "execution_count": 32
        }
      ]
    },
    {
      "cell_type": "markdown",
      "metadata": {
        "id": "KisfdajdkpcI"
      },
      "source": [
        "#### 1.4. Create a string, sent = ‘Coronavirus Caused Lockdowns Around The World.”"
      ],
      "id": "KisfdajdkpcI"
    },
    {
      "cell_type": "markdown",
      "metadata": {
        "id": "CJkrVqh8kpcI"
      },
      "source": [
        "<p style='text-align: right;'> 7 points</p>\n"
      ],
      "id": "CJkrVqh8kpcI"
    },
    {
      "cell_type": "code",
      "metadata": {
        "id": "brkLITSLkpcI"
      },
      "source": [
        "# code here\n",
        "sent = \"Coronavirus Caused Lockdowns Around The World.\""
      ],
      "id": "brkLITSLkpcI",
      "execution_count": 36,
      "outputs": []
    },
    {
      "cell_type": "markdown",
      "metadata": {
        "id": "th_r4MyCkpcJ"
      },
      "source": [
        "Use split function to convert the string into a list of words and save it in variable words and print the same"
      ],
      "id": "th_r4MyCkpcJ"
    },
    {
      "cell_type": "code",
      "metadata": {
        "id": "DiLl93wrkpcJ",
        "outputId": "1e40d3ca-5d80-4a58-fea9-593394627e8c",
        "colab": {
          "base_uri": "https://localhost:8080/"
        }
      },
      "source": [
        "# code here\n",
        "x = sent.split(\" \")\n",
        "x"
      ],
      "id": "DiLl93wrkpcJ",
      "execution_count": 38,
      "outputs": [
        {
          "output_type": "execute_result",
          "data": {
            "text/plain": [
              "['Coronavirus', 'Caused', 'Lockdowns', 'Around', 'The', 'World.']"
            ]
          },
          "metadata": {},
          "execution_count": 38
        }
      ]
    },
    {
      "cell_type": "markdown",
      "metadata": {
        "id": "c-EXQ-3YkpcJ"
      },
      "source": [
        "Using list comprehensions, convert each word in the list to lower case and store it in variable words_lower. \n",
        "Print words_lower"
      ],
      "id": "c-EXQ-3YkpcJ"
    },
    {
      "cell_type": "code",
      "metadata": {
        "id": "qu9Wy0ORkpcJ",
        "outputId": "ece5f85a-6086-4d0f-f098-89252051a48a",
        "colab": {
          "base_uri": "https://localhost:8080/"
        }
      },
      "source": [
        "# code here\n",
        "words_lower = [i.lower() for i in x]\n",
        "words_lower"
      ],
      "id": "qu9Wy0ORkpcJ",
      "execution_count": 40,
      "outputs": [
        {
          "output_type": "execute_result",
          "data": {
            "text/plain": [
              "['coronavirus', 'caused', 'lockdowns', 'around', 'the', 'world.']"
            ]
          },
          "metadata": {},
          "execution_count": 40
        }
      ]
    },
    {
      "cell_type": "markdown",
      "metadata": {
        "id": "6QbDnP8-kpcJ"
      },
      "source": [
        "Check whether ‘country’ is in the list"
      ],
      "id": "6QbDnP8-kpcJ"
    },
    {
      "cell_type": "code",
      "metadata": {
        "id": "pbj4S06jkpcJ",
        "outputId": "76cddf05-ca5b-41cd-da0d-bb9327386c32",
        "colab": {
          "base_uri": "https://localhost:8080/"
        }
      },
      "source": [
        "# code here\n",
        "'country' in words_lower"
      ],
      "id": "pbj4S06jkpcJ",
      "execution_count": 41,
      "outputs": [
        {
          "output_type": "execute_result",
          "data": {
            "text/plain": [
              "False"
            ]
          },
          "metadata": {},
          "execution_count": 41
        }
      ]
    },
    {
      "cell_type": "markdown",
      "metadata": {
        "id": "-5bXQCY-kpcK"
      },
      "source": [
        "Remove the element ‘the’ from the list and print the list."
      ],
      "id": "-5bXQCY-kpcK"
    },
    {
      "cell_type": "code",
      "metadata": {
        "id": "TZ3w3rTNkpcK",
        "outputId": "0125d1d0-dc4b-4c98-e4cf-24c2144756aa",
        "colab": {
          "base_uri": "https://localhost:8080/"
        }
      },
      "source": [
        "# code here\n",
        "words_lower.remove('the')\n",
        "words_lower"
      ],
      "id": "TZ3w3rTNkpcK",
      "execution_count": 42,
      "outputs": [
        {
          "output_type": "execute_result",
          "data": {
            "text/plain": [
              "['coronavirus', 'caused', 'lockdowns', 'around', 'world.']"
            ]
          },
          "metadata": {},
          "execution_count": 42
        }
      ]
    },
    {
      "cell_type": "markdown",
      "metadata": {
        "id": "K2urIMaHkpcK"
      },
      "source": [
        "Select the first 4 words from the list words_lower using slicing and store them in a new variable x4"
      ],
      "id": "K2urIMaHkpcK"
    },
    {
      "cell_type": "code",
      "metadata": {
        "id": "hl9uTlnHkpcK"
      },
      "source": [
        "#code here\n",
        "x4 = words_lower[0:4]"
      ],
      "id": "hl9uTlnHkpcK",
      "execution_count": 43,
      "outputs": []
    },
    {
      "cell_type": "code",
      "metadata": {
        "id": "ATxw84QokpcK",
        "outputId": "b68a259c-71f9-4a11-e779-c92da1210421",
        "colab": {
          "base_uri": "https://localhost:8080/"
        }
      },
      "source": [
        "# print x4\n",
        "x4"
      ],
      "id": "ATxw84QokpcK",
      "execution_count": 44,
      "outputs": [
        {
          "output_type": "execute_result",
          "data": {
            "text/plain": [
              "['coronavirus', 'caused', 'lockdowns', 'around']"
            ]
          },
          "metadata": {},
          "execution_count": 44
        }
      ]
    },
    {
      "cell_type": "markdown",
      "metadata": {
        "id": "40lbSur2kpcL"
      },
      "source": [
        "Convert the list of elements to single string using join function and print it"
      ],
      "id": "40lbSur2kpcL"
    },
    {
      "cell_type": "code",
      "metadata": {
        "id": "oeN_Eyb1kpcL",
        "outputId": "65fd0ce5-babb-481d-884c-eca54fc7c5cb",
        "colab": {
          "base_uri": "https://localhost:8080/"
        }
      },
      "source": [
        "#code here\n",
        "print(\" \".join(x4))"
      ],
      "id": "oeN_Eyb1kpcL",
      "execution_count": 45,
      "outputs": [
        {
          "output_type": "stream",
          "name": "stdout",
          "text": [
            "coronavirus caused lockdowns around\n"
          ]
        }
      ]
    },
    {
      "cell_type": "markdown",
      "metadata": {
        "id": "XlViORgBkpcL"
      },
      "source": [
        "## 2. Sets\n",
        "\n",
        "Reference:-https://www.youtube.com/watch?v=B7dPo44o5jA&list=PLsR_0x6BuM-GCc3iD6OQuEZHCAtYPmZfx&index=12\n"
      ],
      "id": "XlViORgBkpcL"
    },
    {
      "cell_type": "markdown",
      "metadata": {
        "id": "cGgxZPVhkpcL"
      },
      "source": [
        "#### 2.1. Create stud_grades = ['A','A','B','C','C','F']"
      ],
      "id": "cGgxZPVhkpcL"
    },
    {
      "cell_type": "markdown",
      "metadata": {
        "id": "vSfGcxrCkpcL"
      },
      "source": [
        "<p style='text-align: right;'> 7 points</p>\n"
      ],
      "id": "vSfGcxrCkpcL"
    },
    {
      "cell_type": "code",
      "metadata": {
        "id": "AszrelvIkpcL"
      },
      "source": [
        "#code here\n",
        "stud_grades = ['A','A','B','C','C','F']"
      ],
      "id": "AszrelvIkpcL",
      "execution_count": 46,
      "outputs": []
    },
    {
      "cell_type": "markdown",
      "metadata": {
        "id": "JbdWSm2EkpcM"
      },
      "source": [
        "Print the len of stud_grades"
      ],
      "id": "JbdWSm2EkpcM"
    },
    {
      "cell_type": "code",
      "metadata": {
        "id": "FJwWPNlckpcM",
        "outputId": "d8c7fd17-2d72-4967-eaa9-bf066ca91962",
        "colab": {
          "base_uri": "https://localhost:8080/"
        }
      },
      "source": [
        "#code here\n",
        "len(stud_grades)"
      ],
      "id": "FJwWPNlckpcM",
      "execution_count": 47,
      "outputs": [
        {
          "output_type": "execute_result",
          "data": {
            "text/plain": [
              "6"
            ]
          },
          "metadata": {},
          "execution_count": 47
        }
      ]
    },
    {
      "cell_type": "markdown",
      "metadata": {
        "id": "syIycmhykpcM"
      },
      "source": [
        "Create a new variable, stud_grades_set = set(stud_grades)"
      ],
      "id": "syIycmhykpcM"
    },
    {
      "cell_type": "code",
      "metadata": {
        "id": "h49VnI1MkpcM"
      },
      "source": [
        "#code here\n",
        "stud_grades_set = set(stud_grades)"
      ],
      "id": "h49VnI1MkpcM",
      "execution_count": 48,
      "outputs": []
    },
    {
      "cell_type": "markdown",
      "metadata": {
        "id": "AHG7h5i3kpcM"
      },
      "source": [
        "Print stud_grades_set. "
      ],
      "id": "AHG7h5i3kpcM"
    },
    {
      "cell_type": "code",
      "metadata": {
        "id": "qDZaqBhKkpcN",
        "outputId": "090b4871-1af2-40e7-9078-a47d05120f99",
        "colab": {
          "base_uri": "https://localhost:8080/"
        }
      },
      "source": [
        "#code here\n",
        "stud_grades_set"
      ],
      "id": "qDZaqBhKkpcN",
      "execution_count": 49,
      "outputs": [
        {
          "output_type": "execute_result",
          "data": {
            "text/plain": [
              "{'A', 'B', 'C', 'F'}"
            ]
          },
          "metadata": {},
          "execution_count": 49
        }
      ]
    },
    {
      "cell_type": "markdown",
      "metadata": {
        "id": "Sniw3TCxkpcN"
      },
      "source": [
        "print the type of stud_grades and stud_grades_set and print their corresponding elements. Try to understand the difference between them."
      ],
      "id": "Sniw3TCxkpcN"
    },
    {
      "cell_type": "code",
      "metadata": {
        "id": "Ur2RvyqykpcN",
        "outputId": "0cd578ac-a476-4c54-a4d8-46c5615784d7",
        "colab": {
          "base_uri": "https://localhost:8080/"
        }
      },
      "source": [
        "#code here\n",
        "print(type(stud_grades), stud_grades)\n",
        "print(type(stud_grades_set), stud_grades_set)"
      ],
      "id": "Ur2RvyqykpcN",
      "execution_count": 51,
      "outputs": [
        {
          "output_type": "stream",
          "name": "stdout",
          "text": [
            "<class 'list'> ['A', 'A', 'B', 'C', 'C', 'F']\n",
            "<class 'set'> {'F', 'B', 'C', 'A'}\n"
          ]
        }
      ]
    },
    {
      "cell_type": "markdown",
      "metadata": {
        "id": "Ppd3J-N1kpcN"
      },
      "source": [
        "Add a new element ‘G’ to stud_grades_set"
      ],
      "id": "Ppd3J-N1kpcN"
    },
    {
      "cell_type": "code",
      "metadata": {
        "id": "8hGYh9PEkpcN"
      },
      "source": [
        "#code here\n",
        "\n",
        "stud_grades_set.update('G')"
      ],
      "id": "8hGYh9PEkpcN",
      "execution_count": 52,
      "outputs": []
    },
    {
      "cell_type": "markdown",
      "metadata": {
        "id": "1Osvv21ekpcO"
      },
      "source": [
        "Add element 'F' to stud_grades_set. and print it."
      ],
      "id": "1Osvv21ekpcO"
    },
    {
      "cell_type": "code",
      "metadata": {
        "id": "Dd3eD4AgkpcO",
        "outputId": "36b2143e-0a8e-4d31-afb3-9508a6628bc7",
        "colab": {
          "base_uri": "https://localhost:8080/"
        }
      },
      "source": [
        "#code here\n",
        "stud_grades_set.update('F')\n",
        "stud_grades_set"
      ],
      "id": "Dd3eD4AgkpcO",
      "execution_count": 53,
      "outputs": [
        {
          "output_type": "execute_result",
          "data": {
            "text/plain": [
              "{'A', 'B', 'C', 'F', 'G'}"
            ]
          },
          "metadata": {},
          "execution_count": 53
        }
      ]
    },
    {
      "cell_type": "markdown",
      "metadata": {
        "id": "XClNoELikpcO"
      },
      "source": [
        "!!Did you notice? set doesn't add an element if it's already present in it, unlike lists."
      ],
      "id": "XClNoELikpcO"
    },
    {
      "cell_type": "markdown",
      "metadata": {
        "id": "A_9hFH6mkpcO"
      },
      "source": [
        "Remove ‘F’ from stud_grades_set"
      ],
      "id": "A_9hFH6mkpcO"
    },
    {
      "cell_type": "code",
      "metadata": {
        "id": "34ybEoh0kpcO"
      },
      "source": [
        "#code here\n",
        "stud_grades_set.remove('F')\n"
      ],
      "id": "34ybEoh0kpcO",
      "execution_count": 54,
      "outputs": []
    },
    {
      "cell_type": "markdown",
      "metadata": {
        "id": "FhW3HjejkpcO"
      },
      "source": [
        "Print the elements and the length of stud_grades_set"
      ],
      "id": "FhW3HjejkpcO"
    },
    {
      "cell_type": "code",
      "metadata": {
        "id": "PXFnKWdQkpcO",
        "outputId": "9b1c55f4-04f9-460b-e06e-992e1153909d",
        "colab": {
          "base_uri": "https://localhost:8080/"
        }
      },
      "source": [
        "#code here\n",
        "print(stud_grades_set)\n",
        "len(stud_grades_set)\n"
      ],
      "id": "PXFnKWdQkpcO",
      "execution_count": 55,
      "outputs": [
        {
          "output_type": "stream",
          "name": "stdout",
          "text": [
            "{'C', 'G', 'B', 'A'}\n"
          ]
        },
        {
          "output_type": "execute_result",
          "data": {
            "text/plain": [
              "4"
            ]
          },
          "metadata": {},
          "execution_count": 55
        }
      ]
    },
    {
      "cell_type": "markdown",
      "metadata": {
        "id": "N2f4etZWkpcP"
      },
      "source": [
        "#### 2.2. Create colors = [‘red’,’blue’,’orange’], and fruits = [‘orange’,’grapes’,’apples’] "
      ],
      "id": "N2f4etZWkpcP"
    },
    {
      "cell_type": "markdown",
      "metadata": {
        "id": "mtF1BdJ8kpcP"
      },
      "source": [
        "<p style='text-align: right;'> 6 points</p>\n"
      ],
      "id": "mtF1BdJ8kpcP"
    },
    {
      "cell_type": "code",
      "metadata": {
        "id": "58z0CT--kpcP"
      },
      "source": [
        "#code here\n",
        "colors = ['red','blue','orange']\n",
        "fruits = ['orange','grapes','apples']"
      ],
      "id": "58z0CT--kpcP",
      "execution_count": 62,
      "outputs": []
    },
    {
      "cell_type": "markdown",
      "metadata": {
        "id": "3uQeGFjOkpcP"
      },
      "source": [
        "Print color and fruits"
      ],
      "id": "3uQeGFjOkpcP"
    },
    {
      "cell_type": "code",
      "metadata": {
        "id": "IasMF-J8kpcP",
        "outputId": "cd8e3a58-ced0-4304-ae55-ebb400670dd7",
        "colab": {
          "base_uri": "https://localhost:8080/"
        }
      },
      "source": [
        "#code here\n",
        "print(colors)\n",
        "print(fruits)"
      ],
      "id": "IasMF-J8kpcP",
      "execution_count": 64,
      "outputs": [
        {
          "output_type": "stream",
          "name": "stdout",
          "text": [
            "['red', 'blue', 'orange']\n",
            "['orange', 'grapes', 'apples']\n"
          ]
        }
      ]
    },
    {
      "cell_type": "markdown",
      "metadata": {
        "id": "MmbSJxhnkpcP"
      },
      "source": [
        "Create colors_set, and fruits_set. (using set() ) and print them"
      ],
      "id": "MmbSJxhnkpcP"
    },
    {
      "cell_type": "code",
      "metadata": {
        "id": "T46Fv-zGkpcP",
        "outputId": "7211515c-2cd2-4d77-d389-38fe372aa334",
        "colab": {
          "base_uri": "https://localhost:8080/"
        }
      },
      "source": [
        "#code here\n",
        "colors_set =set(colors)\n",
        "fruits_set = set(fruits)\n",
        "print(colors_set)\n",
        "print(fruits_set)"
      ],
      "id": "T46Fv-zGkpcP",
      "execution_count": 65,
      "outputs": [
        {
          "output_type": "stream",
          "name": "stdout",
          "text": [
            "{'red', 'orange', 'blue'}\n",
            "{'grapes', 'orange', 'apples'}\n"
          ]
        }
      ]
    },
    {
      "cell_type": "markdown",
      "metadata": {
        "id": "I6A0suaSkpcQ"
      },
      "source": [
        "Find the union of both the sets."
      ],
      "id": "I6A0suaSkpcQ"
    },
    {
      "cell_type": "code",
      "metadata": {
        "id": "JDt7qEwTkpcQ",
        "outputId": "ea1435db-dcf8-42db-b706-45cc266f4009",
        "colab": {
          "base_uri": "https://localhost:8080/"
        }
      },
      "source": [
        "#code here\n",
        "colors_set.union(fruits_set)\n"
      ],
      "id": "JDt7qEwTkpcQ",
      "execution_count": 66,
      "outputs": [
        {
          "output_type": "execute_result",
          "data": {
            "text/plain": [
              "{'apples', 'blue', 'grapes', 'orange', 'red'}"
            ]
          },
          "metadata": {},
          "execution_count": 66
        }
      ]
    },
    {
      "cell_type": "markdown",
      "metadata": {
        "id": "bZZhTj5PkpcQ"
      },
      "source": [
        "Find the intersection of both the sets "
      ],
      "id": "bZZhTj5PkpcQ"
    },
    {
      "cell_type": "code",
      "metadata": {
        "id": "rfZTJlvKkpcQ",
        "outputId": "ed4b33ee-750b-4a45-bbc7-e4a818f156a7",
        "colab": {
          "base_uri": "https://localhost:8080/"
        }
      },
      "source": [
        "#code here\n",
        "colors_set.intersection(fruits_set)\n"
      ],
      "id": "rfZTJlvKkpcQ",
      "execution_count": 67,
      "outputs": [
        {
          "output_type": "execute_result",
          "data": {
            "text/plain": [
              "{'orange'}"
            ]
          },
          "metadata": {},
          "execution_count": 67
        }
      ]
    },
    {
      "cell_type": "markdown",
      "metadata": {
        "id": "vmFkc4sXkpcR"
      },
      "source": [
        "Find the elements which are Fruits but not colors (using set.difference() )"
      ],
      "id": "vmFkc4sXkpcR"
    },
    {
      "cell_type": "code",
      "metadata": {
        "id": "UAE5Flv_kpcR",
        "outputId": "11048823-08ca-41a0-b959-b89ca2dbb0f9",
        "colab": {
          "base_uri": "https://localhost:8080/"
        }
      },
      "source": [
        "#code here\n",
        "\n",
        "fruits_set.difference(colors_set)"
      ],
      "id": "UAE5Flv_kpcR",
      "execution_count": 68,
      "outputs": [
        {
          "output_type": "execute_result",
          "data": {
            "text/plain": [
              "{'apples', 'grapes'}"
            ]
          },
          "metadata": {},
          "execution_count": 68
        }
      ]
    },
    {
      "cell_type": "markdown",
      "metadata": {
        "id": "DivF-svekpcR"
      },
      "source": [
        "## 3. TUPLES\n",
        "\n",
        "Reference:-https://www.youtube.com/watch?v=aMGPLCzTvmE&list=PLsR_0x6BuM-GCc3iD6OQuEZHCAtYPmZfx&index=11\n"
      ],
      "id": "DivF-svekpcR"
    },
    {
      "cell_type": "markdown",
      "metadata": {
        "id": "1Amd7ICHkpcR"
      },
      "source": [
        "#### 3.1 . Create temp = [17, ’Virat’, 50.0]"
      ],
      "id": "1Amd7ICHkpcR"
    },
    {
      "cell_type": "markdown",
      "metadata": {
        "id": "dgG43IiWkpcR"
      },
      "source": [
        "<p style='text-align: right;'> 7 points</p>\n"
      ],
      "id": "dgG43IiWkpcR"
    },
    {
      "cell_type": "code",
      "metadata": {
        "id": "pCj4RYxPkpcR"
      },
      "source": [
        "#code here\n",
        "temp = [17, 'Virat', 50.0]\n",
        "\n"
      ],
      "id": "pCj4RYxPkpcR",
      "execution_count": 1,
      "outputs": []
    },
    {
      "cell_type": "markdown",
      "metadata": {
        "id": "vYVDWU0mkpcS"
      },
      "source": [
        "Iterate through temp and print all the items in temp"
      ],
      "id": "vYVDWU0mkpcS"
    },
    {
      "cell_type": "code",
      "metadata": {
        "id": "Abcx7FsQkpcS",
        "outputId": "3743fb16-5819-4a69-c24b-b3979c0d3b04",
        "colab": {
          "base_uri": "https://localhost:8080/"
        }
      },
      "source": [
        "#code here\n",
        "for i in temp:\n",
        "  print(i)\n",
        "\n"
      ],
      "id": "Abcx7FsQkpcS",
      "execution_count": 2,
      "outputs": [
        {
          "output_type": "stream",
          "name": "stdout",
          "text": [
            "17\n",
            "Virat\n",
            "50.0\n"
          ]
        }
      ]
    },
    {
      "cell_type": "markdown",
      "metadata": {
        "id": "H8IYduIMkpcS"
      },
      "source": [
        "replace first element with 11 in temp"
      ],
      "id": "H8IYduIMkpcS"
    },
    {
      "cell_type": "code",
      "metadata": {
        "id": "_agIAaYokpcS"
      },
      "source": [
        "#code here\n",
        "temp[0]=11\n"
      ],
      "id": "_agIAaYokpcS",
      "execution_count": 3,
      "outputs": []
    },
    {
      "cell_type": "markdown",
      "metadata": {
        "id": "L65Zu5JOkpcS"
      },
      "source": [
        "Set temp1 = tuple(temp)"
      ],
      "id": "L65Zu5JOkpcS"
    },
    {
      "cell_type": "code",
      "metadata": {
        "id": "Lf_crs_FkpcS"
      },
      "source": [
        "#code here\n",
        "\n",
        "temp1 = tuple(temp)"
      ],
      "id": "Lf_crs_FkpcS",
      "execution_count": 4,
      "outputs": []
    },
    {
      "cell_type": "markdown",
      "metadata": {
        "id": "W0_KvKjIkpcT"
      },
      "source": [
        "Iterate through temp1 and print all the items in temp1. "
      ],
      "id": "W0_KvKjIkpcT"
    },
    {
      "cell_type": "code",
      "metadata": {
        "id": "6GEPWeoAkpcT",
        "outputId": "b5926584-2b7f-4770-a09f-2313d6c7c927",
        "colab": {
          "base_uri": "https://localhost:8080/"
        }
      },
      "source": [
        "#code here\n",
        "for i in temp1:\n",
        "  print(i)\n"
      ],
      "id": "6GEPWeoAkpcT",
      "execution_count": 5,
      "outputs": [
        {
          "output_type": "stream",
          "name": "stdout",
          "text": [
            "11\n",
            "Virat\n",
            "50.0\n"
          ]
        }
      ]
    },
    {
      "cell_type": "markdown",
      "metadata": {
        "id": "f9d9LXh8kpcU"
      },
      "source": [
        "replace first element with 17 in temp1"
      ],
      "id": "f9d9LXh8kpcU"
    },
    {
      "cell_type": "code",
      "metadata": {
        "id": "1IkxeChfkpcU",
        "outputId": "2bd832a1-4314-40e5-e410-2f2ee75d4dcd",
        "colab": {
          "base_uri": "https://localhost:8080/",
          "height": 188
        }
      },
      "source": [
        "#code here\n",
        "temp1[0]=17\n"
      ],
      "id": "1IkxeChfkpcU",
      "execution_count": 6,
      "outputs": [
        {
          "output_type": "error",
          "ename": "TypeError",
          "evalue": "ignored",
          "traceback": [
            "\u001b[0;31m---------------------------------------------------------------------------\u001b[0m",
            "\u001b[0;31mTypeError\u001b[0m                                 Traceback (most recent call last)",
            "\u001b[0;32m<ipython-input-6-8e04226ee3c4>\u001b[0m in \u001b[0;36m<module>\u001b[0;34m()\u001b[0m\n\u001b[1;32m      1\u001b[0m \u001b[0;31m#code here\u001b[0m\u001b[0;34m\u001b[0m\u001b[0;34m\u001b[0m\u001b[0;34m\u001b[0m\u001b[0m\n\u001b[0;32m----> 2\u001b[0;31m \u001b[0mtemp1\u001b[0m\u001b[0;34m[\u001b[0m\u001b[0;36m0\u001b[0m\u001b[0;34m]\u001b[0m\u001b[0;34m=\u001b[0m\u001b[0;36m17\u001b[0m\u001b[0;34m\u001b[0m\u001b[0;34m\u001b[0m\u001b[0m\n\u001b[0m",
            "\u001b[0;31mTypeError\u001b[0m: 'tuple' object does not support item assignment"
          ]
        }
      ]
    },
    {
      "cell_type": "markdown",
      "metadata": {
        "id": "YEFosZa1kpcV"
      },
      "source": [
        "<b>Oops!! You got an error. Hey Don't worry! Its because Once a tuple is created, you cannot change its values unlike list.</b>"
      ],
      "id": "YEFosZa1kpcV"
    },
    {
      "cell_type": "code",
      "source": [
        ""
      ],
      "metadata": {
        "id": "JrhK3ppXfTtX"
      },
      "id": "JrhK3ppXfTtX",
      "execution_count": null,
      "outputs": []
    },
    {
      "cell_type": "markdown",
      "metadata": {
        "id": "ODAigBgXkpcV"
      },
      "source": [
        "<p style='text-align: right;'> 6 points</p>\n"
      ],
      "id": "ODAigBgXkpcV"
    },
    {
      "cell_type": "markdown",
      "metadata": {
        "id": "ykhpKlS8kpcV"
      },
      "source": [
        "#### 3.2 . Create city = (\"Bangalore\", 28.9949521, 72)"
      ],
      "id": "ykhpKlS8kpcV"
    },
    {
      "cell_type": "code",
      "metadata": {
        "id": "WgGXPbe1kpcW"
      },
      "source": [
        "#code here\n",
        "\n",
        "city = (\"Bangalore\", 28.9949521, 72)"
      ],
      "id": "WgGXPbe1kpcW",
      "execution_count": 21,
      "outputs": []
    },
    {
      "cell_type": "markdown",
      "metadata": {
        "id": "DWPnWxz5kpcW"
      },
      "source": [
        "Print first element of city"
      ],
      "id": "DWPnWxz5kpcW"
    },
    {
      "cell_type": "code",
      "metadata": {
        "id": "dA6KeViMkpcW",
        "outputId": "8ad2283a-7743-4ef8-cf49-d0317116e4d3",
        "colab": {
          "base_uri": "https://localhost:8080/",
          "height": 36
        }
      },
      "source": [
        "#code here\n",
        "city[0]\n"
      ],
      "id": "dA6KeViMkpcW",
      "execution_count": 22,
      "outputs": [
        {
          "output_type": "execute_result",
          "data": {
            "text/plain": [
              "'Bangalore'"
            ],
            "application/vnd.google.colaboratory.intrinsic+json": {
              "type": "string"
            }
          },
          "metadata": {},
          "execution_count": 22
        }
      ]
    },
    {
      "cell_type": "markdown",
      "metadata": {
        "id": "pbsNXIF8kpcW"
      },
      "source": [
        "Create city2 = (‘Chennai’, 30.01, 74)"
      ],
      "id": "pbsNXIF8kpcW"
    },
    {
      "cell_type": "code",
      "metadata": {
        "id": "WUTjcdxJkpcW"
      },
      "source": [
        "#code here\n",
        "city2 = ('Chennai', 30.01, 74)\n"
      ],
      "id": "WUTjcdxJkpcW",
      "execution_count": 23,
      "outputs": []
    },
    {
      "cell_type": "markdown",
      "metadata": {
        "id": "3Dj0etmhkpcX"
      },
      "source": [
        "Create cities which consist of city and city2"
      ],
      "id": "3Dj0etmhkpcX"
    },
    {
      "cell_type": "code",
      "metadata": {
        "id": "fRwK84MzkpcX",
        "colab": {
          "base_uri": "https://localhost:8080/"
        },
        "outputId": "a8b48f19-bff1-417b-cd23-3783396c0488"
      },
      "source": [
        "#code here\n",
        "city =list(city)\n",
        "city2 = list(city2)\n",
        "city_ = []\n",
        "\n",
        "city_.append(tuple(city))\n",
        "city_.append(tuple(city2))\n",
        "\n",
        "cities = tuple(city_)\n",
        "cities"
      ],
      "id": "fRwK84MzkpcX",
      "execution_count": 28,
      "outputs": [
        {
          "output_type": "execute_result",
          "data": {
            "text/plain": [
              "(('Bangalore', 28.9949521, 72), ('Chennai', 30.01, 74))"
            ]
          },
          "metadata": {},
          "execution_count": 28
        }
      ]
    },
    {
      "cell_type": "markdown",
      "metadata": {
        "id": "zS4zixR5kpcX"
      },
      "source": [
        "Print cities"
      ],
      "id": "zS4zixR5kpcX"
    },
    {
      "cell_type": "code",
      "metadata": {
        "id": "i7VaAI5SkpcX",
        "outputId": "62892714-657a-4a99-ae9b-2c238fe15cd1",
        "colab": {
          "base_uri": "https://localhost:8080/"
        }
      },
      "source": [
        "#code here\n",
        "cities\n"
      ],
      "id": "i7VaAI5SkpcX",
      "execution_count": 29,
      "outputs": [
        {
          "output_type": "execute_result",
          "data": {
            "text/plain": [
              "(('Bangalore', 28.9949521, 72), ('Chennai', 30.01, 74))"
            ]
          },
          "metadata": {},
          "execution_count": 29
        }
      ]
    },
    {
      "cell_type": "markdown",
      "metadata": {
        "id": "oXs492EmkpcX"
      },
      "source": [
        "Print type of first element in cities"
      ],
      "id": "oXs492EmkpcX"
    },
    {
      "cell_type": "code",
      "metadata": {
        "id": "09lrtqAvkpcX",
        "outputId": "28165354-7ae3-4bec-b7f6-5c28faf6f4c4",
        "colab": {
          "base_uri": "https://localhost:8080/"
        }
      },
      "source": [
        "#code here\n",
        "type(cities[0])\n"
      ],
      "id": "09lrtqAvkpcX",
      "execution_count": 30,
      "outputs": [
        {
          "output_type": "execute_result",
          "data": {
            "text/plain": [
              "tuple"
            ]
          },
          "metadata": {},
          "execution_count": 30
        }
      ]
    },
    {
      "cell_type": "markdown",
      "metadata": {
        "id": "na1P70SGkpcY"
      },
      "source": [
        "print the type of cities\n"
      ],
      "id": "na1P70SGkpcY"
    },
    {
      "cell_type": "code",
      "metadata": {
        "id": "3l0lToaXkpcY",
        "outputId": "23f0671f-fef2-4aa6-9e9a-821cb2445696",
        "colab": {
          "base_uri": "https://localhost:8080/"
        }
      },
      "source": [
        "#code here\n",
        "\n",
        "print(type(cities))"
      ],
      "id": "3l0lToaXkpcY",
      "execution_count": 32,
      "outputs": [
        {
          "output_type": "stream",
          "name": "stdout",
          "text": [
            "<class 'tuple'>\n"
          ]
        }
      ]
    },
    {
      "cell_type": "markdown",
      "metadata": {
        "id": "66u3kIwvkpcY"
      },
      "source": [
        "Hey that implies you made a nested tuples!!"
      ],
      "id": "66u3kIwvkpcY"
    },
    {
      "cell_type": "markdown",
      "metadata": {
        "id": "9IPo71RPkpcY"
      },
      "source": [
        "## 4. DICT\n",
        "\n",
        "Reference:-https://www.youtube.com/watch?v=U3e-L1WSSzQ&list=PLsR_0x6BuM-GCc3iD6OQuEZHCAtYPmZfx&index=13\n"
      ],
      "id": "9IPo71RPkpcY"
    },
    {
      "cell_type": "markdown",
      "metadata": {
        "id": "nOnQGy06kpcY"
      },
      "source": [
        "<p style='text-align: right;'> 11 points</p>\n"
      ],
      "id": "nOnQGy06kpcY"
    },
    {
      "cell_type": "markdown",
      "metadata": {
        "id": "_D3WHJsMkpcZ"
      },
      "source": [
        "#### 4.1 Create a dictionary d = {\"actor\":\"amir\",\"animal\":\"cat\",\"earth\":2,\"list\":[23,32,12]}"
      ],
      "id": "_D3WHJsMkpcZ"
    },
    {
      "cell_type": "code",
      "metadata": {
        "id": "nQV3F4cTkpcZ"
      },
      "source": [
        "#code here\n",
        "d = {\"actor\":\"amir\",\"animal\":\"cat\",\"earth\":2,\"list\":[23,32,12]}\n"
      ],
      "id": "nQV3F4cTkpcZ",
      "execution_count": 34,
      "outputs": []
    },
    {
      "cell_type": "markdown",
      "metadata": {
        "id": "9XZ9f0amkpcZ"
      },
      "source": [
        "Print the value of d[0]"
      ],
      "id": "9XZ9f0amkpcZ"
    },
    {
      "cell_type": "code",
      "metadata": {
        "id": "VdZOj0bVkpcZ",
        "outputId": "b0178695-3ced-47c4-d272-c156fe2d4008",
        "colab": {
          "base_uri": "https://localhost:8080/",
          "height": 188
        }
      },
      "source": [
        "#code here\n",
        "d[0]\n"
      ],
      "id": "VdZOj0bVkpcZ",
      "execution_count": 35,
      "outputs": [
        {
          "output_type": "error",
          "ename": "KeyError",
          "evalue": "ignored",
          "traceback": [
            "\u001b[0;31m---------------------------------------------------------------------------\u001b[0m",
            "\u001b[0;31mKeyError\u001b[0m                                  Traceback (most recent call last)",
            "\u001b[0;32m<ipython-input-35-a306cefea1b5>\u001b[0m in \u001b[0;36m<module>\u001b[0;34m()\u001b[0m\n\u001b[1;32m      1\u001b[0m \u001b[0;31m#code here\u001b[0m\u001b[0;34m\u001b[0m\u001b[0;34m\u001b[0m\u001b[0;34m\u001b[0m\u001b[0m\n\u001b[0;32m----> 2\u001b[0;31m \u001b[0md\u001b[0m\u001b[0;34m[\u001b[0m\u001b[0;36m0\u001b[0m\u001b[0;34m]\u001b[0m\u001b[0;34m\u001b[0m\u001b[0;34m\u001b[0m\u001b[0m\n\u001b[0m",
            "\u001b[0;31mKeyError\u001b[0m: 0"
          ]
        }
      ]
    },
    {
      "cell_type": "markdown",
      "metadata": {
        "id": "YnzshYWfkpcZ"
      },
      "source": [
        "<b>Oops!! again an error. again a fun fact. Dictionary return the value for key if key is in the dictionary, else throws KeyError\n",
        "and we don't have key 0 here :( </b>"
      ],
      "id": "YnzshYWfkpcZ"
    },
    {
      "cell_type": "markdown",
      "metadata": {
        "id": "seqtJ3HOkpca"
      },
      "source": [
        "Store the value of d[‘actor’] to a new variable actor."
      ],
      "id": "seqtJ3HOkpca"
    },
    {
      "cell_type": "code",
      "metadata": {
        "id": "Iy-ibjR-kpca",
        "colab": {
          "base_uri": "https://localhost:8080/",
          "height": 36
        },
        "outputId": "a625aefc-8bf7-4057-f197-9f0d815966a8"
      },
      "source": [
        "d['actor']#code here\n",
        "\n"
      ],
      "id": "Iy-ibjR-kpca",
      "execution_count": 36,
      "outputs": [
        {
          "output_type": "execute_result",
          "data": {
            "text/plain": [
              "'amir'"
            ],
            "application/vnd.google.colaboratory.intrinsic+json": {
              "type": "string"
            }
          },
          "metadata": {},
          "execution_count": 36
        }
      ]
    },
    {
      "cell_type": "markdown",
      "metadata": {
        "id": "3XspSdnykpca"
      },
      "source": [
        "Print the type of actor"
      ],
      "id": "3XspSdnykpca"
    },
    {
      "cell_type": "code",
      "metadata": {
        "id": "PeRcMuYHkpca",
        "outputId": "0b1206e5-e08d-4f65-f9df-10874ba3762c",
        "colab": {
          "base_uri": "https://localhost:8080/"
        }
      },
      "source": [
        "#code here\n",
        "print(type(d['actor']))\n"
      ],
      "id": "PeRcMuYHkpca",
      "execution_count": 39,
      "outputs": [
        {
          "output_type": "stream",
          "name": "stdout",
          "text": [
            "<class 'str'>\n"
          ]
        }
      ]
    },
    {
      "cell_type": "markdown",
      "metadata": {
        "id": "MeAKu0Y1kpca"
      },
      "source": [
        "Store the value of d[‘list’] in new variable l. "
      ],
      "id": "MeAKu0Y1kpca"
    },
    {
      "cell_type": "code",
      "metadata": {
        "id": "Z1PS0784kpca"
      },
      "source": [
        "#code here\n",
        "l = d['list']\n"
      ],
      "id": "Z1PS0784kpca",
      "execution_count": 40,
      "outputs": []
    },
    {
      "cell_type": "markdown",
      "metadata": {
        "id": "2-TgaLwtkpca"
      },
      "source": [
        "Print the type of l. "
      ],
      "id": "2-TgaLwtkpca"
    },
    {
      "cell_type": "code",
      "metadata": {
        "id": "D1LQcCj-kpcb",
        "outputId": "c7ce5107-a9ed-4865-cc51-a31d152f7168",
        "colab": {
          "base_uri": "https://localhost:8080/"
        }
      },
      "source": [
        "#code here\n",
        "print(type(l))\n"
      ],
      "id": "D1LQcCj-kpcb",
      "execution_count": 41,
      "outputs": [
        {
          "output_type": "stream",
          "name": "stdout",
          "text": [
            "<class 'list'>\n"
          ]
        }
      ]
    },
    {
      "cell_type": "markdown",
      "metadata": {
        "id": "YxRwuHH6kpcb"
      },
      "source": [
        "Create d1 = { ‘singer’ : ‘Kr$na’ , ‘album’: ‘Still here’, ‘genre’ : ‘hip-hop’}"
      ],
      "id": "YxRwuHH6kpcb"
    },
    {
      "cell_type": "code",
      "metadata": {
        "id": "VZBmqqDvkpcb"
      },
      "source": [
        "#code here\n",
        "d1 = { 'singer' : 'Kr$na' , 'album': 'Still here', 'genre' : 'hip-hop'}\n"
      ],
      "id": "VZBmqqDvkpcb",
      "execution_count": 43,
      "outputs": []
    },
    {
      "cell_type": "markdown",
      "metadata": {
        "id": "tZ2jSPPRkpcb"
      },
      "source": [
        "Merge d1 into d."
      ],
      "id": "tZ2jSPPRkpcb"
    },
    {
      "cell_type": "code",
      "metadata": {
        "id": "ydfvA3s4kpcb"
      },
      "source": [
        "#code here\n",
        "\n",
        "d.update(d1)"
      ],
      "id": "ydfvA3s4kpcb",
      "execution_count": 44,
      "outputs": []
    },
    {
      "cell_type": "markdown",
      "metadata": {
        "id": "GNNBXz-Pkpcb"
      },
      "source": [
        "print d"
      ],
      "id": "GNNBXz-Pkpcb"
    },
    {
      "cell_type": "code",
      "metadata": {
        "id": "fZ_SizwPkpcc",
        "outputId": "a6e51131-e2a5-4e4d-a34a-3471900513f2",
        "colab": {
          "base_uri": "https://localhost:8080/"
        }
      },
      "source": [
        "#code here\n",
        "print(d)\n"
      ],
      "id": "fZ_SizwPkpcc",
      "execution_count": 45,
      "outputs": [
        {
          "output_type": "stream",
          "name": "stdout",
          "text": [
            "{'actor': 'amir', 'animal': 'cat', 'earth': 2, 'list': [23, 32, 12], 'singer': 'Kr$na', 'album': 'Still here', 'genre': 'hip-hop'}\n"
          ]
        }
      ]
    },
    {
      "cell_type": "markdown",
      "metadata": {
        "id": "bkjF0mNckpcc"
      },
      "source": [
        "Print all the keys in d"
      ],
      "id": "bkjF0mNckpcc"
    },
    {
      "cell_type": "code",
      "metadata": {
        "id": "RgTiM-1Gkpcc",
        "outputId": "a853ddab-f481-417f-8b8a-db33beaa9850",
        "colab": {
          "base_uri": "https://localhost:8080/"
        }
      },
      "source": [
        "#code here\n",
        "\n",
        "d.keys()"
      ],
      "id": "RgTiM-1Gkpcc",
      "execution_count": 46,
      "outputs": [
        {
          "output_type": "execute_result",
          "data": {
            "text/plain": [
              "dict_keys(['actor', 'animal', 'earth', 'list', 'singer', 'album', 'genre'])"
            ]
          },
          "metadata": {},
          "execution_count": 46
        }
      ]
    },
    {
      "cell_type": "markdown",
      "metadata": {
        "id": "HeqJs6sfkpcc"
      },
      "source": [
        "Print all the values in d"
      ],
      "id": "HeqJs6sfkpcc"
    },
    {
      "cell_type": "code",
      "metadata": {
        "id": "lS9DRpPZkpcc",
        "outputId": "27e724cd-813a-4c76-a553-4929f7e17d13",
        "colab": {
          "base_uri": "https://localhost:8080/"
        }
      },
      "source": [
        "#code here\n",
        "\n",
        "d.values()"
      ],
      "id": "lS9DRpPZkpcc",
      "execution_count": 47,
      "outputs": [
        {
          "output_type": "execute_result",
          "data": {
            "text/plain": [
              "dict_values(['amir', 'cat', 2, [23, 32, 12], 'Kr$na', 'Still here', 'hip-hop'])"
            ]
          },
          "metadata": {},
          "execution_count": 47
        }
      ]
    },
    {
      "cell_type": "markdown",
      "metadata": {
        "id": "AvMDYUh2kpcc"
      },
      "source": [
        "Iterate over d, and print each key, value pair as given in output"
      ],
      "id": "AvMDYUh2kpcc"
    },
    {
      "cell_type": "code",
      "metadata": {
        "id": "UIGPHLApkpcd",
        "outputId": "73b56013-94e9-4062-dd3e-460b8701f7a5",
        "colab": {
          "base_uri": "https://localhost:8080/"
        }
      },
      "source": [
        "#code here\n",
        "for i in d.items():\n",
        "    print(i[0],\"---->\", i[1])\n"
      ],
      "id": "UIGPHLApkpcd",
      "execution_count": 50,
      "outputs": [
        {
          "output_type": "stream",
          "name": "stdout",
          "text": [
            "actor ----> amir\n",
            "animal ----> cat\n",
            "earth ----> 2\n",
            "list ----> [23, 32, 12]\n",
            "singer ----> Kr$na\n",
            "album ----> Still here\n",
            "genre ----> hip-hop\n"
          ]
        }
      ]
    },
    {
      "cell_type": "markdown",
      "metadata": {
        "id": "sHcM8rF0kpcd"
      },
      "source": [
        "\n",
        "Create a string, sent = ‘Coronavirus Caused Lockdowns Around The World.”\n",
        "\n",
        "Count the number of occurences of charachters in string named \"sent\" using dictionary and print the same.\n"
      ],
      "id": "sHcM8rF0kpcd"
    },
    {
      "cell_type": "code",
      "metadata": {
        "id": "DmpLDa2vkpcd",
        "outputId": "63c7b2e1-d01c-4e6f-c333-9c1d684bba01",
        "colab": {
          "base_uri": "https://localhost:8080/"
        }
      },
      "source": [
        "#code here\n",
        "sent = \"Coronavirus Caused Lockdowns Around The World.\"\n",
        "dic = {}\n",
        "for i in sent:\n",
        "  if i not in dic.keys():\n",
        "    dic[i] = 1\n",
        "  else:\n",
        "    dic[i] =  dic[i]+1\n",
        "print(dic)\n",
        "\n"
      ],
      "id": "DmpLDa2vkpcd",
      "execution_count": 51,
      "outputs": [
        {
          "output_type": "stream",
          "name": "stdout",
          "text": [
            "{'C': 2, 'o': 6, 'r': 4, 'n': 3, 'a': 2, 'v': 1, 'i': 1, 'u': 3, 's': 3, ' ': 5, 'e': 2, 'd': 4, 'L': 1, 'c': 1, 'k': 1, 'w': 1, 'A': 1, 'T': 1, 'h': 1, 'W': 1, 'l': 1, '.': 1}\n"
          ]
        }
      ]
    },
    {
      "cell_type": "markdown",
      "metadata": {
        "id": "b-ESQmrKkpcd"
      },
      "source": [
        "# --------------------------------------------------------------------"
      ],
      "id": "b-ESQmrKkpcd"
    },
    {
      "cell_type": "markdown",
      "metadata": {
        "id": "dxIz_yvZkpcd"
      },
      "source": [
        "# Hurray!! Second milestone completed. The next challenge is waiting for you :)\n",
        "\n",
        "# --------------------------------------------------------------------\n",
        "\n",
        "-----------------\n",
        "# FeedBack\n",
        "We hope you’ve enjoyed this course so far. We’re committed to help you use \"AI for All\" course to its full potential, so that you have a great learning experience. And that’s why we need your help in form of a feedback here.\n",
        "\n",
        "Please fill this feedback form  https://zfrmz.in/MtRG5oWXBdesm6rmSM7N"
      ],
      "id": "dxIz_yvZkpcd"
    }
  ]
}